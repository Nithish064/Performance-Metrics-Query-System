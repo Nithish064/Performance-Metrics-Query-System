{
 "cells": [
  {
   "cell_type": "code",
   "execution_count": null,
   "id": "a9adcc4c",
   "metadata": {
    "lines_to_next_cell": 1
   },
   "outputs": [],
   "source": [
    "import datetime\n",
    "import json\n",
    "import re\n",
    "from fuzzywuzzy import fuzz"
   ]
  },
  {
   "cell_type": "code",
   "execution_count": null,
   "id": "a8d39327",
   "metadata": {
    "lines_to_next_cell": 1
   },
   "outputs": [],
   "source": [
    "# Function to extract company names, metrics, and dates from user query using regex\n",
    "def extract_query_components(user_query, company_names, metrics):\n",
    "    # Regex patterns to extract entity (company name), parameter (performance metric), and dates\n",
    "    company_pattern = r\"\\b(?:{})\\b\".format(\"|\".join(company_names))  # Dynamic company regex\n",
    "    metric_pattern = r\"\\b(?:{})\\b\".format(\"|\".join(metrics))  # Dynamic metric regex\n",
    "    date_pattern = r\"\\b(\\d{1,2}[\\/\\-]\\d{1,2}[\\/\\-]\\d{4}|\\d{4}-\\d{1,2}-\\d{1,2}|last year|this year|last quarter|previous month)\\b\"\n",
    "\n",
    "    # Match company names and performance metrics\n",
    "    company_match = re.search(company_pattern, user_query, re.IGNORECASE)\n",
    "    metric_match = re.search(metric_pattern, user_query, re.IGNORECASE)\n",
    "    date_matches = re.findall(date_pattern, user_query)\n",
    "\n",
    "    # Use fuzzy matching if no exact match is found\n",
    "    entity = None\n",
    "    parameter = None\n",
    "    for name in company_names:\n",
    "        if fuzz.partial_ratio(name.lower(), user_query.lower()) > 80:  # Fuzzy match threshold\n",
    "            entity = name\n",
    "            break\n",
    "\n",
    "    for metric in metrics:\n",
    "        if fuzz.partial_ratio(metric.lower(), user_query.lower()) > 80:\n",
    "            parameter = metric\n",
    "            break\n",
    "\n",
    "    # Extract dates\n",
    "    start_date = None\n",
    "    end_date = None\n",
    "    if date_matches:\n",
    "        start_date = date_matches[0] if len(date_matches) > 0 else None\n",
    "        end_date = date_matches[1] if len(date_matches) > 1 else None\n",
    "\n",
    "    return {\"entity\": entity, \"parameter\": parameter, \"startDate\": start_date, \"endDate\": end_date}"
   ]
  },
  {
   "cell_type": "code",
   "execution_count": null,
   "id": "563635ae",
   "metadata": {
    "lines_to_next_cell": 1
   },
   "outputs": [],
   "source": [
    "# Function to handle default dates and format dates into ISO 8601\n",
    "def process_dates(start_date=None, end_date=None):\n",
    "    today = datetime.date.today()\n",
    "    one_year_ago = today - datetime.timedelta(days=365)\n",
    "\n",
    "    # Handle relative date ranges like \"last year\", \"this year\", etc.\n",
    "    if start_date == \"last year\":\n",
    "        start_date = one_year_ago.replace(month=1, day=1).isoformat()\n",
    "    elif start_date == \"this year\":\n",
    "        start_date = today.replace(month=1, day=1).isoformat()\n",
    "\n",
    "    if end_date == \"last quarter\":\n",
    "        end_date = (today.replace(month=((today.month - 1) // 3 * 3) + 3, day=1) - datetime.timedelta(days=1)).isoformat()\n",
    "    elif end_date == \"previous month\":\n",
    "        end_date = (today.replace(day=1) - datetime.timedelta(days=1)).isoformat()\n",
    "    elif end_date == \"this year\":\n",
    "        end_date = today.replace(month=12, day=31).isoformat()\n",
    "\n",
    "    # If no start or end date provided, use default values\n",
    "    start_date = start_date or one_year_ago.isoformat()\n",
    "    end_date = end_date or today.isoformat()\n",
    "\n",
    "    return start_date, end_date"
   ]
  },
  {
   "cell_type": "code",
   "execution_count": null,
   "id": "86d285c5",
   "metadata": {
    "lines_to_next_cell": 1
   },
   "outputs": [],
   "source": [
    "# Function to generate JSON output\n",
    "def generate_json(user_query, company_names, metrics, previous_entities=[]):\n",
    "    extracted_data = extract_query_components(user_query, company_names, metrics)\n",
    "\n",
    "    # Handle missing data or defaults\n",
    "    if extracted_data[\"entity\"] and extracted_data[\"parameter\"]:\n",
    "        start_date, end_date = process_dates(extracted_data.get(\"startDate\"), extracted_data.get(\"endDate\"))\n",
    "        entities = [{\n",
    "            \"entity\": extracted_data.get(\"entity\"),\n",
    "            \"parameter\": extracted_data.get(\"parameter\"),\n",
    "            \"startDate\": start_date,\n",
    "            \"endDate\": end_date\n",
    "        }]\n",
    "    else:\n",
    "        raise Exception(\"Invalid or incomplete query. Please provide a valid company name and metric.\")\n",
    "\n",
    "    # Handle comparison queries (append previous entities)\n",
    "    if \"compare\" in user_query.lower() and previous_entities:\n",
    "        entities.extend(previous_entities)\n",
    "\n",
    "    return entities"
   ]
  },
  {
   "cell_type": "code",
   "execution_count": null,
   "id": "9ed31ebb",
   "metadata": {
    "lines_to_next_cell": 1
   },
   "outputs": [],
   "source": [
    "# Main function to run the application\n",
    "def main():\n",
    "    print(\"Welcome to the LLM-powered Performance Metrics Query System!\")\n",
    "\n",
    "    # Define the supported company names and performance metrics\n",
    "    company_names = [\"Flipkart\", \"Amazon\", \"Walmart\", \"Apple\", \"Microsoft\"]\n",
    "    metrics = [\"GMV\", \"revenue\", \"profit\", \"sales\", \"loss\"]\n",
    "\n",
    "    previous_entities = []\n",
    "    query_history = []\n",
    "\n",
    "    while True:\n",
    "        # Limit query history to 6\n",
    "        if len(query_history) >= 6:\n",
    "            query_history.pop(0)\n",
    "\n",
    "        user_query = input(\"Enter your query (or type 'exit' to quit): \")\n",
    "        if user_query.lower() == \"exit\":\n",
    "            break\n",
    "\n",
    "        # Append the current query to history\n",
    "        query_history.append(user_query)\n",
    "\n",
    "        try:\n",
    "            result = generate_json(user_query, company_names, metrics, previous_entities)\n",
    "            print(\"\\nGenerated JSON Output:\")\n",
    "            print(json.dumps(result, indent=4))\n",
    "\n",
    "            # Update previous entities for comparison queries\n",
    "            previous_entities = result\n",
    "\n",
    "        except Exception as e:\n",
    "            print(f\"Error: {str(e)}\")"
   ]
  },
  {
   "cell_type": "code",
   "execution_count": null,
   "id": "53d4eea1",
   "metadata": {},
   "outputs": [],
   "source": [
    "# Instructions to run the application\n",
    "print(\"\"\"\n",
    "Instructions:\n",
    "1. To run this application, ensure you have Python 3.6 or higher installed.\n",
    "2. Install required dependencies using the following command:\n",
    "   pip install fuzzywuzzy python-Levenshtein\n",
    "   pip install requests\n",
    "3. You can enter queries about company performance metrics, e.g.:\n",
    "   - \"What was the GMV of Flipkart last year?\"\n",
    "   - \"Provide the revenue for Amazon and Flipkart from Jan 2023 to Dec 2023.\"\n",
    "4. You can compare results by asking about multiple companies, e.g.:\n",
    "   - \"Compare the GMV of Amazon and Flipkart.\"\n",
    "5. To exit the application, type 'exit'.\n",
    "\"\"\")"
   ]
  },
  {
   "cell_type": "code",
   "execution_count": null,
   "id": "af6dcfa6",
   "metadata": {},
   "outputs": [],
   "source": [
    "# Run the application\n",
    "if __name__ == \"__main__\":\n",
    "    main()"
   ]
  }
 ],
 "metadata": {
  "jupytext": {
   "cell_metadata_filter": "-all",
   "main_language": "python",
   "notebook_metadata_filter": "-all"
  },
  "language_info": {
   "name": "python"
  }
 },
 "nbformat": 4,
 "nbformat_minor": 5
}
